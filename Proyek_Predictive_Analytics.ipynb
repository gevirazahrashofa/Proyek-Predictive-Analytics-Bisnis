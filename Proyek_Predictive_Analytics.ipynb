{
  "nbformat": 4,
  "nbformat_minor": 0,
  "metadata": {
    "colab": {
      "provenance": []
    },
    "kernelspec": {
      "name": "python3",
      "display_name": "Python 3"
    },
    "language_info": {
      "name": "python"
    }
  },
  "cells": [
    {
      "cell_type": "markdown",
      "source": [
        "# **Proyek Predictive Analytics**\n",
        "\n",
        "Nama : Gevira Zahra Shofa"
      ],
      "metadata": {
        "id": "ZoRYcGue8Jf_"
      }
    },
    {
      "cell_type": "markdown",
      "source": [
        "**Data Collection**"
      ],
      "metadata": {
        "id": "CDYP6O1g8cwU"
      }
    },
    {
      "cell_type": "code",
      "execution_count": 19,
      "metadata": {
        "id": "fNtBt6lZ8CZl"
      },
      "outputs": [],
      "source": [
        "# Import library\n",
        "import pandas as pd\n",
        "import numpy as np\n",
        "import matplotlib.pyplot as plt\n",
        "import seaborn as sns"
      ]
    },
    {
      "cell_type": "code",
      "source": [
        "# Load dataset\n",
        "df = pd.read_csv(\"House_Rent_Dataset.csv\")"
      ],
      "metadata": {
        "id": "8JLsxw0C84mI"
      },
      "execution_count": 20,
      "outputs": []
    },
    {
      "cell_type": "markdown",
      "source": [
        "**Data Understanding & Removing Outlier**"
      ],
      "metadata": {
        "id": "lStTRpRr-DRA"
      }
    },
    {
      "cell_type": "code",
      "source": [
        "# Informasi data\n",
        "print(\"Jumlah baris dan kolom:\", df.shape)\n",
        "print(\"\\nInfo dataset:\")\n",
        "print(df.info())\n",
        "print(\"\\nStatistik deskriptif:\")\n",
        "print(df.describe())\n",
        "print(\"\\nJumlah missing values per kolom:\")\n",
        "print(df.isnull().sum())"
      ],
      "metadata": {
        "colab": {
          "base_uri": "https://localhost:8080/"
        },
        "id": "5uU2qW7q-TlM",
        "outputId": "b07e09bc-3fab-42eb-90b1-03741cb44d9c"
      },
      "execution_count": 21,
      "outputs": [
        {
          "output_type": "stream",
          "name": "stdout",
          "text": [
            "Jumlah baris dan kolom: (4746, 12)\n",
            "\n",
            "Info dataset:\n",
            "<class 'pandas.core.frame.DataFrame'>\n",
            "RangeIndex: 4746 entries, 0 to 4745\n",
            "Data columns (total 12 columns):\n",
            " #   Column             Non-Null Count  Dtype \n",
            "---  ------             --------------  ----- \n",
            " 0   Posted On          4746 non-null   object\n",
            " 1   BHK                4746 non-null   int64 \n",
            " 2   Rent               4746 non-null   int64 \n",
            " 3   Size               4746 non-null   int64 \n",
            " 4   Floor              4746 non-null   object\n",
            " 5   Area Type          4746 non-null   object\n",
            " 6   Area Locality      4746 non-null   object\n",
            " 7   City               4746 non-null   object\n",
            " 8   Furnishing Status  4746 non-null   object\n",
            " 9   Tenant Preferred   4746 non-null   object\n",
            " 10  Bathroom           4746 non-null   int64 \n",
            " 11  Point of Contact   4746 non-null   object\n",
            "dtypes: int64(4), object(8)\n",
            "memory usage: 445.1+ KB\n",
            "None\n",
            "\n",
            "Statistik deskriptif:\n",
            "               BHK          Rent         Size     Bathroom\n",
            "count  4746.000000  4.746000e+03  4746.000000  4746.000000\n",
            "mean      2.083860  3.499345e+04   967.490729     1.965866\n",
            "std       0.832256  7.810641e+04   634.202328     0.884532\n",
            "min       1.000000  1.200000e+03    10.000000     1.000000\n",
            "25%       2.000000  1.000000e+04   550.000000     1.000000\n",
            "50%       2.000000  1.600000e+04   850.000000     2.000000\n",
            "75%       3.000000  3.300000e+04  1200.000000     2.000000\n",
            "max       6.000000  3.500000e+06  8000.000000    10.000000\n",
            "\n",
            "Jumlah missing values per kolom:\n",
            "Posted On            0\n",
            "BHK                  0\n",
            "Rent                 0\n",
            "Size                 0\n",
            "Floor                0\n",
            "Area Type            0\n",
            "Area Locality        0\n",
            "City                 0\n",
            "Furnishing Status    0\n",
            "Tenant Preferred     0\n",
            "Bathroom             0\n",
            "Point of Contact     0\n",
            "dtype: int64\n"
          ]
        }
      ]
    },
    {
      "cell_type": "code",
      "source": [
        "# Untuk fitur Posted On dan Point of Contract tidak mempengaruhi harga sewa model jadi akan saya hapus\n",
        "df = df.drop(['Posted On', 'Point of Contact'], axis = 'columns')"
      ],
      "metadata": {
        "id": "tFyrQFNN_NxH"
      },
      "execution_count": 22,
      "outputs": []
    },
    {
      "cell_type": "markdown",
      "source": [
        "**Univariate Analysis**"
      ],
      "metadata": {
        "id": "sJWfOrkCB0Q7"
      }
    },
    {
      "cell_type": "code",
      "source": [
        "# Cek distribusi jumlah data pada fitur 'Area Type'\n",
        "print(\"Distribusi Area Type sebelum pembersihan:\")\n",
        "print(df['Area Type'].value_counts())"
      ],
      "metadata": {
        "colab": {
          "base_uri": "https://localhost:8080/"
        },
        "id": "xgH741aEByG1",
        "outputId": "80ed2d5d-3bdd-4170-8b44-f7d68e26b76f"
      },
      "execution_count": 23,
      "outputs": [
        {
          "output_type": "stream",
          "name": "stdout",
          "text": [
            "Distribusi Area Type sebelum pembersihan:\n",
            "Area Type\n",
            "Super Area     2446\n",
            "Carpet Area    2298\n",
            "Built Area        2\n",
            "Name: count, dtype: int64\n"
          ]
        }
      ]
    },
    {
      "cell_type": "code",
      "source": [
        "# Hapus baris yang memiliki 'Area Type' = 'Built Area' karena hanya ada 2 sampel\n",
        "df = df[df['Area Type'] != 'Built Area']"
      ],
      "metadata": {
        "id": "Xs6XvyBuCEZC"
      },
      "execution_count": 24,
      "outputs": []
    },
    {
      "cell_type": "code",
      "source": [
        "print(\"\\nDistribusi Area Type setelah pembersihan:\")\n",
        "print(df['Area Type'].value_counts())"
      ],
      "metadata": {
        "colab": {
          "base_uri": "https://localhost:8080/"
        },
        "id": "LriyD-9cCNU_",
        "outputId": "7bb42807-365b-4fd3-b058-8f953df48477"
      },
      "execution_count": 25,
      "outputs": [
        {
          "output_type": "stream",
          "name": "stdout",
          "text": [
            "\n",
            "Distribusi Area Type setelah pembersihan:\n",
            "Area Type\n",
            "Super Area     2446\n",
            "Carpet Area    2298\n",
            "Name: count, dtype: int64\n"
          ]
        }
      ]
    },
    {
      "cell_type": "code",
      "source": [
        "# Tampilkan ringkasan jumlah data untuk beberapa fitur kategorikal\n",
        "for col in ['City', 'Furnishing Status', 'Tenant Preferred']:\n",
        "    print(f\"\\nDistribusi kategori pada kolom {col}:\")\n",
        "    print(df[col].value_counts())"
      ],
      "metadata": {
        "colab": {
          "base_uri": "https://localhost:8080/"
        },
        "id": "mfpbus1bCROa",
        "outputId": "ec7c5c0d-51d9-40a8-a7ae-25313a3f66e4"
      },
      "execution_count": 26,
      "outputs": [
        {
          "output_type": "stream",
          "name": "stdout",
          "text": [
            "\n",
            "Distribusi kategori pada kolom City:\n",
            "City\n",
            "Mumbai       972\n",
            "Chennai      890\n",
            "Bangalore    886\n",
            "Hyderabad    867\n",
            "Delhi        605\n",
            "Kolkata      524\n",
            "Name: count, dtype: int64\n",
            "\n",
            "Distribusi kategori pada kolom Furnishing Status:\n",
            "Furnishing Status\n",
            "Semi-Furnished    2251\n",
            "Unfurnished       1814\n",
            "Furnished          679\n",
            "Name: count, dtype: int64\n",
            "\n",
            "Distribusi kategori pada kolom Tenant Preferred:\n",
            "Tenant Preferred\n",
            "Bachelors/Family    3442\n",
            "Bachelors            830\n",
            "Family               472\n",
            "Name: count, dtype: int64\n"
          ]
        }
      ]
    },
    {
      "cell_type": "code",
      "source": [
        "# Tampilkan jumlah nilai unik untuk 'Floor' dan 'Area Locality'\n",
        "print(\"\\nJumlah kategori unik pada 'Floor':\", df['Floor'].nunique())\n",
        "print(\"Jumlah kategori unik pada 'Area Locality':\", df['Area Locality'].nunique())"
      ],
      "metadata": {
        "colab": {
          "base_uri": "https://localhost:8080/"
        },
        "id": "lBjqFAX3CmTS",
        "outputId": "0001c2ef-d599-43ca-b4f0-f9b19e5359fd"
      },
      "execution_count": 27,
      "outputs": [
        {
          "output_type": "stream",
          "name": "stdout",
          "text": [
            "\n",
            "Jumlah kategori unik pada 'Floor': 480\n",
            "Jumlah kategori unik pada 'Area Locality': 2234\n"
          ]
        }
      ]
    },
    {
      "cell_type": "code",
      "source": [
        "# Drop kolom yang terlalu kompleks atau tidak berguna untuk prediksi\n",
        "df.drop(columns=['Floor', 'Area Locality'], inplace=True)"
      ],
      "metadata": {
        "id": "T1p9R8KHCvjG"
      },
      "execution_count": 28,
      "outputs": []
    },
    {
      "cell_type": "code",
      "source": [
        "# Tampilkan 5 baris awal dataset setelah pembersihan\n",
        "print(df.head())"
      ],
      "metadata": {
        "colab": {
          "base_uri": "https://localhost:8080/"
        },
        "id": "6J_ykosIC_dK",
        "outputId": "0edcb394-58e3-4f36-e239-d3e2ed464028"
      },
      "execution_count": 29,
      "outputs": [
        {
          "output_type": "stream",
          "name": "stdout",
          "text": [
            "   BHK   Rent  Size    Area Type     City Furnishing Status  Tenant Preferred  \\\n",
            "0    2  10000  1100   Super Area  Kolkata       Unfurnished  Bachelors/Family   \n",
            "1    2  20000   800   Super Area  Kolkata    Semi-Furnished  Bachelors/Family   \n",
            "2    2  17000  1000   Super Area  Kolkata    Semi-Furnished  Bachelors/Family   \n",
            "3    2  10000   800   Super Area  Kolkata       Unfurnished  Bachelors/Family   \n",
            "4    2   7500   850  Carpet Area  Kolkata       Unfurnished         Bachelors   \n",
            "\n",
            "   Bathroom  \n",
            "0         2  \n",
            "1         1  \n",
            "2         1  \n",
            "3         1  \n",
            "4         1  \n"
          ]
        }
      ]
    },
    {
      "cell_type": "code",
      "source": [
        "# Visualisasi distribusi semua fitur numerik dengan histogram\n",
        "df.hist(bins=50, figsize=(12, 10), color='skyblue', edgecolor='black')\n",
        "plt.suptitle(\"Distribusi Fitur Numerik\", fontsize=16)\n",
        "plt.tight_layout()\n",
        "plt.show()"
      ],
      "metadata": {
        "colab": {
          "base_uri": "https://localhost:8080/",
          "height": 726
        },
        "id": "8kv1eTEcDG4L",
        "outputId": "b58cbb87-8429-4027-85ef-59d99734d728"
      },
      "execution_count": 30,
      "outputs": [
        {
          "output_type": "display_data",
          "data": {
            "text/plain": [
              "<Figure size 1200x1000 with 4 Axes>"
            ],
            "image/png": "[encoded data removed]"
          },
          "metadata": {}
        }
      ]
    },
    {
      "cell_type": "code",
      "source": [
        "# Ringkasan statistik untuk kolom Rent\n",
        "print(\"\\nStatistik deskriptif untuk kolom 'Rent':\")\n",
        "print(df['Rent'].describe().apply(lambda val: f\"{val:,.2f}\"))"
      ],
      "metadata": {
        "colab": {
          "base_uri": "https://localhost:8080/"
        },
        "id": "9JtM6AP7Db4B",
        "outputId": "5a5952f3-8947-4565-9743-cbd6daab7f92"
      },
      "execution_count": 31,
      "outputs": [
        {
          "output_type": "stream",
          "name": "stdout",
          "text": [
            "\n",
            "Statistik deskriptif untuk kolom 'Rent':\n",
            "count        4,744.00\n",
            "mean        35,003.78\n",
            "std         78,121.20\n",
            "min          1,200.00\n",
            "25%         10,000.00\n",
            "50%         16,000.00\n",
            "75%         33,000.00\n",
            "max      3,500,000.00\n",
            "Name: Rent, dtype: object\n"
          ]
        }
      ]
    },
    {
      "cell_type": "markdown",
      "source": [
        "**Multivariate Analysis**"
      ],
      "metadata": {
        "id": "OIuohHZ2DyPg"
      }
    },
    {
      "cell_type": "code",
      "source": [
        "# Menambahkan fitur baru yaitu 'Price per sqft' dengan rumus Rent dikali 1000 dibagi Size\n",
        "df['Price_per_sqft'] = (df['Rent'] * 1000) / df['Size']"
      ],
      "metadata": {
        "id": "2lhQ32TiGYRW"
      },
      "execution_count": 32,
      "outputs": []
    },
    {
      "cell_type": "code",
      "source": [
        "# Mendeteksi outlier berdasarkan ukuran per BHK\n",
        "# Misalnya, ukuran lebih kecil dari 300 sqft per BHK, nah berarti dianggap tidak biasa\n",
        "df[(df.Size / df.BHK) < 300].head()"
      ],
      "metadata": {
        "colab": {
          "base_uri": "https://localhost:8080/",
          "height": 206
        },
        "id": "Z4iS3xBhGii5",
        "outputId": "77655a68-d4ff-425f-aaa7-ccabfcb781b7"
      },
      "execution_count": 33,
      "outputs": [
        {
          "output_type": "execute_result",
          "data": {
            "text/plain": [
              "    BHK  Rent  Size    Area Type     City Furnishing Status  Tenant Preferred  \\\n",
              "7     1  5000   250   Super Area  Kolkata       Unfurnished         Bachelors   \n",
              "12    1  6500   250  Carpet Area  Kolkata         Furnished         Bachelors   \n",
              "21    2  9000   400  Carpet Area  Kolkata       Unfurnished         Bachelors   \n",
              "32    2  6000   550   Super Area  Kolkata    Semi-Furnished  Bachelors/Family   \n",
              "33    2  5000   500  Carpet Area  Kolkata       Unfurnished  Bachelors/Family   \n",
              "\n",
              "    Bathroom  Price_per_sqft  \n",
              "7          1    20000.000000  \n",
              "12         1    26000.000000  \n",
              "21         2    22500.000000  \n",
              "32         1    10909.090909  \n",
              "33         2    10000.000000  "
            ],
            "text/html": [
              "\n",
              "  <div id=\"df-050b453f-f298-4ce3-9801-085376d89f62\" class=\"colab-df-container\">\n",
              "    <div>\n",
              "<style scoped>\n",
              "    .dataframe tbody tr th:only-of-type {\n",
              "        vertical-align: middle;\n",
              "    }\n",
              "\n",
              "    .dataframe tbody tr th {\n",
              "        vertical-align: top;\n",
              "    }\n",
              "\n",
              "    .dataframe thead th {\n",
              "        text-align: right;\n",
              "    }\n",
              "</style>\n",
              "<table border=\"1\" class=\"dataframe\">\n",
              "  <thead>\n",
              "    <tr style=\"text-align: right;\">\n",
              "      <th></th>\n",
              "      <th>BHK</th>\n",
              "      <th>Rent</th>\n",
              "      <th>Size</th>\n",
              "      <th>Area Type</th>\n",
              "      <th>City</th>\n",
              "      <th>Furnishing Status</th>\n",
              "      <th>Tenant Preferred</th>\n",
              "      <th>Bathroom</th>\n",
              "      <th>Price_per_sqft</th>\n",
              "    </tr>\n",
              "  </thead>\n",
              "  <tbody>\n",
              "    <tr>\n",
              "      <th>7</th>\n",
              "      <td>1</td>\n",
              "      <td>5000</td>\n",
              "      <td>250</td>\n",
              "      <td>Super Area</td>\n",
              "      <td>Kolkata</td>\n",
              "      <td>Unfurnished</td>\n",
              "      <td>Bachelors</td>\n",
              "      <td>1</td>\n",
              "      <td>20000.000000</td>\n",
              "    </tr>\n",
              "    <tr>\n",
              "      <th>12</th>\n",
              "      <td>1</td>\n",
              "      <td>6500</td>\n",
              "      <td>250</td>\n",
              "      <td>Carpet Area</td>\n",
              "      <td>Kolkata</td>\n",
              "      <td>Furnished</td>\n",
              "      <td>Bachelors</td>\n",
              "      <td>1</td>\n",
              "      <td>26000.000000</td>\n",
              "    </tr>\n",
              "    <tr>\n",
              "      <th>21</th>\n",
              "      <td>2</td>\n",
              "      <td>9000</td>\n",
              "      <td>400</td>\n",
              "      <td>Carpet Area</td>\n",
              "      <td>Kolkata</td>\n",
              "      <td>Unfurnished</td>\n",
              "      <td>Bachelors</td>\n",
              "      <td>2</td>\n",
              "      <td>22500.000000</td>\n",
              "    </tr>\n",
              "    <tr>\n",
              "      <th>32</th>\n",
              "      <td>2</td>\n",
              "      <td>6000</td>\n",
              "      <td>550</td>\n",
              "      <td>Super Area</td>\n",
              "      <td>Kolkata</td>\n",
              "      <td>Semi-Furnished</td>\n",
              "      <td>Bachelors/Family</td>\n",
              "      <td>1</td>\n",
              "      <td>10909.090909</td>\n",
              "    </tr>\n",
              "    <tr>\n",
              "      <th>33</th>\n",
              "      <td>2</td>\n",
              "      <td>5000</td>\n",
              "      <td>500</td>\n",
              "      <td>Carpet Area</td>\n",
              "      <td>Kolkata</td>\n",
              "      <td>Unfurnished</td>\n",
              "      <td>Bachelors/Family</td>\n",
              "      <td>2</td>\n",
              "      <td>10000.000000</td>\n",
              "    </tr>\n",
              "  </tbody>\n",
              "</table>\n",
              "</div>\n",
              "    <div class=\"colab-df-buttons\">\n",
              "\n",
              "  <div class=\"colab-df-container\">\n",
              "    <button class=\"colab-df-convert\" onclick=\"convertToInteractive('df-050b453f-f298-4ce3-9801-085376d89f62')\"\n",
              "            title=\"Convert this dataframe to an interactive table.\"\n",
              "            style=\"display:none;\">\n",
              "\n",
              "  <svg xmlns=\"http://www.w3.org/2000/svg\" height=\"24px\" viewBox=\"0 -960 960 960\">\n",
              "    <path d=\"M120-120v-720h720v720H120Zm60-500h600v-160H180v160Zm220 220h160v-160H400v160Zm0 220h160v-160H400v160ZM180-400h160v-160H180v160Zm440 0h160v-160H620v160ZM180-180h160v-160H180v160Zm440 0h160v-160H620v160Z\"/>\n",
              "  </svg>\n",
              "    </button>\n",
              "\n",
              "  <style>\n",
              "    .colab-df-container {\n",
              "      display:flex;\n",
              "      gap: 12px;\n",
              "    }\n",
              "\n",
              "    .colab-df-convert {\n",
              "      background-color: #E8F0FE;\n",
              "      border: none;\n",
              "      border-radius: 50%;\n",
              "      cursor: pointer;\n",
              "      display: none;\n",
              "      fill: #1967D2;\n",
              "      height: 32px;\n",
              "      padding: 0 0 0 0;\n",
              "      width: 32px;\n",
              "    }\n",
              "\n",
              "    .colab-df-convert:hover {\n",
              "      background-color: #E2EBFA;\n",
              "      box-shadow: 0px 1px 2px rgba(60, 64, 67, 0.3), 0px 1px 3px 1px rgba(60, 64, 67, 0.15);\n",
              "      fill: #174EA6;\n",
              "    }\n",
              "\n",
              "    .colab-df-buttons div {\n",
              "      margin-bottom: 4px;\n",
              "    }\n",
              "\n",
              "    [theme=dark] .colab-df-convert {\n",
              "      background-color: #3B4455;\n",
              "      fill: #D2E3FC;\n",
              "    }\n",
              "\n",
              "    [theme=dark] .colab-df-convert:hover {\n",
              "      background-color: #434B5C;\n",
              "      box-shadow: 0px 1px 3px 1px rgba(0, 0, 0, 0.15);\n",
              "      filter: drop-shadow(0px 1px 2px rgba(0, 0, 0, 0.3));\n",
              "      fill: #FFFFFF;\n",
              "    }\n",
              "  </style>\n",
              "\n",
              "    <script>\n",
              "      const buttonEl =\n",
              "        document.querySelector('#df-050b453f-f298-4ce3-9801-085376d89f62 button.colab-df-convert');\n",
              "      buttonEl.style.display =\n",
              "        google.colab.kernel.accessAllowed ? 'block' : 'none';\n",
              "\n",
              "      async function convertToInteractive(key) {\n",
              "        const element = document.querySelector('#df-050b453f-f298-4ce3-9801-085376d89f62');\n",
              "        const dataTable =\n",
              "          await google.colab.kernel.invokeFunction('convertToInteractive',\n",
              "                                                    [key], {});\n",
              "        if (!dataTable) return;\n",
              "\n",
              "        const docLinkHtml = 'Like what you see? Visit the ' +\n",
              "          '<a target=\"_blank\" href=https://colab.research.google.com/notebooks/data_table.ipynb>data table notebook</a>'\n",
              "          + ' to learn more about interactive tables.';\n",
              "        element.innerHTML = '';\n",
              "        dataTable['output_type'] = 'display_data';\n",
              "        await google.colab.output.renderOutput(dataTable, element);\n",
              "        const docLink = document.createElement('div');\n",
              "        docLink.innerHTML = docLinkHtml;\n",
              "        element.appendChild(docLink);\n",
              "      }\n",
              "    </script>\n",
              "  </div>\n",
              "\n",
              "\n",
              "    <div id=\"df-60366c18-f493-4e62-af57-23808f32495e\">\n",
              "      <button class=\"colab-df-quickchart\" onclick=\"quickchart('df-60366c18-f493-4e62-af57-23808f32495e')\"\n",
              "                title=\"Suggest charts\"\n",
              "                style=\"display:none;\">\n",
              "\n",
              "<svg xmlns=\"http://www.w3.org/2000/svg\" height=\"24px\"viewBox=\"0 0 24 24\"\n",
              "     width=\"24px\">\n",
              "    <g>\n",
              "        <path d=\"M19 3H5c-1.1 0-2 .9-2 2v14c0 1.1.9 2 2 2h14c1.1 0 2-.9 2-2V5c0-1.1-.9-2-2-2zM9 17H7v-7h2v7zm4 0h-2V7h2v10zm4 0h-2v-4h2v4z\"/>\n",
              "    </g>\n",
              "</svg>\n",
              "      </button>\n",
              "\n",
              "<style>\n",
              "  .colab-df-quickchart {\n",
              "      --bg-color: #E8F0FE;\n",
              "      --fill-color: #1967D2;\n",
              "      --hover-bg-color: #E2EBFA;\n",
              "      --hover-fill-color: #174EA6;\n",
              "      --disabled-fill-color: #AAA;\n",
              "      --disabled-bg-color: #DDD;\n",
              "  }\n",
              "\n",
              "  [theme=dark] .colab-df-quickchart {\n",
              "      --bg-color: #3B4455;\n",
              "      --fill-color: #D2E3FC;\n",
              "      --hover-bg-color: #434B5C;\n",
              "      --hover-fill-color: #FFFFFF;\n",
              "      --disabled-bg-color: #3B4455;\n",
              "      --disabled-fill-color: #666;\n",
              "  }\n",
              "\n",
              "  .colab-df-quickchart {\n",
              "    background-color: var(--bg-color);\n",
              "    border: none;\n",
              "    border-radius: 50%;\n",
              "    cursor: pointer;\n",
              "    display: none;\n",
              "    fill: var(--fill-color);\n",
              "    height: 32px;\n",
              "    padding: 0;\n",
              "    width: 32px;\n",
              "  }\n",
              "\n",
              "  .colab-df-quickchart:hover {\n",
              "    background-color: var(--hover-bg-color);\n",
              "    box-shadow: 0 1px 2px rgba(60, 64, 67, 0.3), 0 1px 3px 1px rgba(60, 64, 67, 0.15);\n",
              "    fill: var(--button-hover-fill-color);\n",
              "  }\n",
              "\n",
              "  .colab-df-quickchart-complete:disabled,\n",
              "  .colab-df-quickchart-complete:disabled:hover {\n",
              "    background-color: var(--disabled-bg-color);\n",
              "    fill: var(--disabled-fill-color);\n",
              "    box-shadow: none;\n",
              "  }\n",
              "\n",
              "  .colab-df-spinner {\n",
              "    border: 2px solid var(--fill-color);\n",
              "    border-color: transparent;\n",
              "    border-bottom-color: var(--fill-color);\n",
              "    animation:\n",
              "      spin 1s steps(1) infinite;\n",
              "  }\n",
              "\n",
              "  @keyframes spin {\n",
              "    0% {\n",
              "      border-color: transparent;\n",
              "      border-bottom-color: var(--fill-color);\n",
              "      border-left-color: var(--fill-color);\n",
              "    }\n",
              "    20% {\n",
              "      border-color: transparent;\n",
              "      border-left-color: var(--fill-color);\n",
              "      border-top-color: var(--fill-color);\n",
              "    }\n",
              "    30% {\n",
              "      border-color: transparent;\n",
              "      border-left-color: var(--fill-color);\n",
              "      border-top-color: var(--fill-color);\n",
              "      border-right-color: var(--fill-color);\n",
              "    }\n",
              "    40% {\n",
              "      border-color: transparent;\n",
              "      border-right-color: var(--fill-color);\n",
              "      border-top-color: var(--fill-color);\n",
              "    }\n",
              "    60% {\n",
              "      border-color: transparent;\n",
              "      border-right-color: var(--fill-color);\n",
              "    }\n",
              "    80% {\n",
              "      border-color: transparent;\n",
              "      border-right-color: var(--fill-color);\n",
              "      border-bottom-color: var(--fill-color);\n",
              "    }\n",
              "    90% {\n",
              "      border-color: transparent;\n",
              "      border-bottom-color: var(--fill-color);\n",
              "    }\n",
              "  }\n",
              "</style>\n",
              "\n",
              "      <script>\n",
              "        async function quickchart(key) {\n",
              "          const quickchartButtonEl =\n",
              "            document.querySelector('#' + key + ' button');\n",
              "          quickchartButtonEl.disabled = true;  // To prevent multiple clicks.\n",
              "          quickchartButtonEl.classList.add('colab-df-spinner');\n",
              "          try {\n",
              "            const charts = await google.colab.kernel.invokeFunction(\n",
              "                'suggestCharts', [key], {});\n",
              "          } catch (error) {\n",
              "            console.error('Error during call to suggestCharts:', error);\n",
              "          }\n",
              "          quickchartButtonEl.classList.remove('colab-df-spinner');\n",
              "          quickchartButtonEl.classList.add('colab-df-quickchart-complete');\n",
              "        }\n",
              "        (() => {\n",
              "          let quickchartButtonEl =\n",
              "            document.querySelector('#df-60366c18-f493-4e62-af57-23808f32495e button');\n",
              "          quickchartButtonEl.style.display =\n",
              "            google.colab.kernel.accessAllowed ? 'block' : 'none';\n",
              "        })();\n",
              "      </script>\n",
              "    </div>\n",
              "\n",
              "    </div>\n",
              "  </div>\n"
            ],
            "application/vnd.google.colaboratory.intrinsic+json": {
              "type": "dataframe",
              "summary": "{\n  \"name\": \"df[(df\",\n  \"rows\": 5,\n  \"fields\": [\n    {\n      \"column\": \"BHK\",\n      \"properties\": {\n        \"dtype\": \"number\",\n        \"std\": 0,\n        \"min\": 1,\n        \"max\": 2,\n        \"num_unique_values\": 2,\n        \"samples\": [\n          2,\n          1\n        ],\n        \"semantic_type\": \"\",\n        \"description\": \"\"\n      }\n    },\n    {\n      \"column\": \"Rent\",\n      \"properties\": {\n        \"dtype\": \"number\",\n        \"std\": 1643,\n        \"min\": 5000,\n        \"max\": 9000,\n        \"num_unique_values\": 4,\n        \"samples\": [\n          6500,\n          6000\n        ],\n        \"semantic_type\": \"\",\n        \"description\": \"\"\n      }\n    },\n    {\n      \"column\": \"Size\",\n      \"properties\": {\n        \"dtype\": \"number\",\n        \"std\": 138,\n        \"min\": 250,\n        \"max\": 550,\n        \"num_unique_values\": 4,\n        \"samples\": [\n          400,\n          500\n        ],\n        \"semantic_type\": \"\",\n        \"description\": \"\"\n      }\n    },\n    {\n      \"column\": \"Area Type\",\n      \"properties\": {\n        \"dtype\": \"category\",\n        \"num_unique_values\": 2,\n        \"samples\": [\n          \"Carpet Area\",\n          \"Super Area\"\n        ],\n        \"semantic_type\": \"\",\n        \"description\": \"\"\n      }\n    },\n    {\n      \"column\": \"City\",\n      \"properties\": {\n        \"dtype\": \"category\",\n        \"num_unique_values\": 1,\n        \"samples\": [\n          \"Kolkata\"\n        ],\n        \"semantic_type\": \"\",\n        \"description\": \"\"\n      }\n    },\n    {\n      \"column\": \"Furnishing Status\",\n      \"properties\": {\n        \"dtype\": \"string\",\n        \"num_unique_values\": 3,\n        \"samples\": [\n          \"Unfurnished\"\n        ],\n        \"semantic_type\": \"\",\n        \"description\": \"\"\n      }\n    },\n    {\n      \"column\": \"Tenant Preferred\",\n      \"properties\": {\n        \"dtype\": \"category\",\n        \"num_unique_values\": 2,\n        \"samples\": [\n          \"Bachelors/Family\"\n        ],\n        \"semantic_type\": \"\",\n        \"description\": \"\"\n      }\n    },\n    {\n      \"column\": \"Bathroom\",\n      \"properties\": {\n        \"dtype\": \"number\",\n        \"std\": 0,\n        \"min\": 1,\n        \"max\": 2,\n        \"num_unique_values\": 2,\n        \"samples\": [\n          2\n        ],\n        \"semantic_type\": \"\",\n        \"description\": \"\"\n      }\n    },\n    {\n      \"column\": \"Price_per_sqft\",\n      \"properties\": {\n        \"dtype\": \"number\",\n        \"std\": 7114.442301136354,\n        \"min\": 10000.0,\n        \"max\": 26000.0,\n        \"num_unique_values\": 5,\n        \"samples\": [\n          26000.0\n        ],\n        \"semantic_type\": \"\",\n        \"description\": \"\"\n      }\n    }\n  ]\n}"
            }
          },
          "metadata": {},
          "execution_count": 33
        }
      ]
    },
    {
      "cell_type": "code",
      "source": [
        "# Menampilkan dimensi data sebelum pemrosesan\n",
        "df.shape"
      ],
      "metadata": {
        "colab": {
          "base_uri": "https://localhost:8080/"
        },
        "id": "dgzkWc4TGs1O",
        "outputId": "f2a31b0a-5446-4120-eec5-462277e1a56c"
      },
      "execution_count": 34,
      "outputs": [
        {
          "output_type": "execute_result",
          "data": {
            "text/plain": [
              "(4744, 9)"
            ]
          },
          "metadata": {},
          "execution_count": 34
        }
      ]
    },
    {
      "cell_type": "code",
      "source": [
        "# Menghapus outlier berdasarkan ukuran per BHK\n",
        "df_cleaned = df[~(df.Size / df.BHK < 300)]\n",
        "df_cleaned.head()\n",
        "\n",
        "# Menampilkan dimensi data setelah penghapusan outlier\n",
        "df_cleaned.shape"
      ],
      "metadata": {
        "colab": {
          "base_uri": "https://localhost:8080/"
        },
        "id": "7kVtc2R9GxVK",
        "outputId": "047090a7-54c5-4a65-9281-f0e9a1205ed7"
      },
      "execution_count": 35,
      "outputs": [
        {
          "output_type": "execute_result",
          "data": {
            "text/plain": [
              "(4196, 9)"
            ]
          },
          "metadata": {},
          "execution_count": 35
        }
      ]
    },
    {
      "cell_type": "code",
      "source": [
        "#  Menganalisis statistik deskriptif dari 'Price per sqft'\n",
        "df_cleaned.Price_per_sqft.describe().apply(lambda x: format(x, 'f'))"
      ],
      "metadata": {
        "colab": {
          "base_uri": "https://localhost:8080/",
          "height": 335
        },
        "id": "EzMHxNhDG6Xe",
        "outputId": "9113edd4-b674-46c8-c1d7-9ae29c87cda9"
      },
      "execution_count": 36,
      "outputs": [
        {
          "output_type": "execute_result",
          "data": {
            "text/plain": [
              "count       4196.000000\n",
              "mean       32827.385605\n",
              "std        41300.048982\n",
              "min          571.428571\n",
              "25%        13000.000000\n",
              "50%        18511.595708\n",
              "75%        34896.788991\n",
              "max      1400000.000000\n",
              "Name: Price_per_sqft, dtype: object"
            ],
            "text/html": [
              "<div>\n",
              "<style scoped>\n",
              "    .dataframe tbody tr th:only-of-type {\n",
              "        vertical-align: middle;\n",
              "    }\n",
              "\n",
              "    .dataframe tbody tr th {\n",
              "        vertical-align: top;\n",
              "    }\n",
              "\n",
              "    .dataframe thead th {\n",
              "        text-align: right;\n",
              "    }\n",
              "</style>\n",
              "<table border=\"1\" class=\"dataframe\">\n",
              "  <thead>\n",
              "    <tr style=\"text-align: right;\">\n",
              "      <th></th>\n",
              "      <th>Price_per_sqft</th>\n",
              "    </tr>\n",
              "  </thead>\n",
              "  <tbody>\n",
              "    <tr>\n",
              "      <th>count</th>\n",
              "      <td>4196.000000</td>\n",
              "    </tr>\n",
              "    <tr>\n",
              "      <th>mean</th>\n",
              "      <td>32827.385605</td>\n",
              "    </tr>\n",
              "    <tr>\n",
              "      <th>std</th>\n",
              "      <td>41300.048982</td>\n",
              "    </tr>\n",
              "    <tr>\n",
              "      <th>min</th>\n",
              "      <td>571.428571</td>\n",
              "    </tr>\n",
              "    <tr>\n",
              "      <th>25%</th>\n",
              "      <td>13000.000000</td>\n",
              "    </tr>\n",
              "    <tr>\n",
              "      <th>50%</th>\n",
              "      <td>18511.595708</td>\n",
              "    </tr>\n",
              "    <tr>\n",
              "      <th>75%</th>\n",
              "      <td>34896.788991</td>\n",
              "    </tr>\n",
              "    <tr>\n",
              "      <th>max</th>\n",
              "      <td>1400000.000000</td>\n",
              "    </tr>\n",
              "  </tbody>\n",
              "</table>\n",
              "</div><br><label><b>dtype:</b> object</label>"
            ]
          },
          "metadata": {},
          "execution_count": 36
        }
      ]
    },
    {
      "cell_type": "code",
      "source": [
        "# Fungsi untuk menghapus outlier berdasarkan price per sqft\n",
        "def remove_outliers_by_price(df):\n",
        "    df_out = pd.DataFrame()\n",
        "    for city, sub_df in df.groupby('City'):\n",
        "        mean_price = np.mean(sub_df['Price_per_sqft'])\n",
        "        std_dev = np.std(sub_df['Price_per_sqft'])\n",
        "        filtered_df = sub_df[(sub_df['Price_per_sqft'] > (mean_price - std_dev)) & (sub_df['Price_per_sqft'] <= (mean_price + std_dev))]\n",
        "        df_out = pd.concat([df_out, filtered_df], ignore_index=True)\n",
        "    return df_out"
      ],
      "metadata": {
        "id": "KGOetnPQHBbv"
      },
      "execution_count": 37,
      "outputs": []
    },
    {
      "cell_type": "code",
      "source": [
        "# Menghapus outlier berdasarkan 'Price per sqft'\n",
        "df_without_outliers = remove_outliers_by_price(df_cleaned)\n",
        "df_without_outliers.shape"
      ],
      "metadata": {
        "colab": {
          "base_uri": "https://localhost:8080/"
        },
        "id": "31gbTEhyHJlu",
        "outputId": "236fca25-8ae6-4bb4-a0f8-9d789ac40271"
      },
      "execution_count": 38,
      "outputs": [
        {
          "output_type": "execute_result",
          "data": {
            "text/plain": [
              "(3699, 9)"
            ]
          },
          "metadata": {},
          "execution_count": 38
        }
      ]
    },
    {
      "cell_type": "code",
      "source": [
        "# Mendeteksi outlier pada jumlah kamar mandi\n",
        "# Misalnya, jika jumlah kamar mandi lebih dari BHK + 2, dianggap outlier\n",
        "df_without_outliers[df_without_outliers.Bathroom > (df_without_outliers.BHK + 2)]"
      ],
      "metadata": {
        "colab": {
          "base_uri": "https://localhost:8080/",
          "height": 195
        },
        "id": "wVc_mFStHMY2",
        "outputId": "7b0c2c82-bea2-4976-a82d-924a67e24e9b"
      },
      "execution_count": 39,
      "outputs": [
        {
          "output_type": "execute_result",
          "data": {
            "text/plain": [
              "      BHK    Rent  Size    Area Type     City Furnishing Status  \\\n",
              "860     3   20000  1700  Carpet Area  Chennai         Furnished   \n",
              "1904    4  150000  4000  Carpet Area    Delhi    Semi-Furnished   \n",
              "3328    1   40000   680   Super Area   Mumbai         Furnished   \n",
              "\n",
              "      Tenant Preferred  Bathroom  Price_per_sqft  \n",
              "860   Bachelors/Family         6    11764.705882  \n",
              "1904         Bachelors         7    37500.000000  \n",
              "3328  Bachelors/Family         4    58823.529412  "
            ],
            "text/html": [
              "\n",
              "  <div id=\"df-6f7373e8-2246-4ddd-8df9-4a93118b8f9f\" class=\"colab-df-container\">\n",
              "    <div>\n",
              "<style scoped>\n",
              "    .dataframe tbody tr th:only-of-type {\n",
              "        vertical-align: middle;\n",
              "    }\n",
              "\n",
              "    .dataframe tbody tr th {\n",
              "        vertical-align: top;\n",
              "    }\n",
              "\n",
              "    .dataframe thead th {\n",
              "        text-align: right;\n",
              "    }\n",
              "</style>\n",
              "<table border=\"1\" class=\"dataframe\">\n",
              "  <thead>\n",
              "    <tr style=\"text-align: right;\">\n",
              "      <th></th>\n",
              "      <th>BHK</th>\n",
              "      <th>Rent</th>\n",
              "      <th>Size</th>\n",
              "      <th>Area Type</th>\n",
              "      <th>City</th>\n",
              "      <th>Furnishing Status</th>\n",
              "      <th>Tenant Preferred</th>\n",
              "      <th>Bathroom</th>\n",
              "      <th>Price_per_sqft</th>\n",
              "    </tr>\n",
              "  </thead>\n",
              "  <tbody>\n",
              "    <tr>\n",
              "      <th>860</th>\n",
              "      <td>3</td>\n",
              "      <td>20000</td>\n",
              "      <td>1700</td>\n",
              "      <td>Carpet Area</td>\n",
              "      <td>Chennai</td>\n",
              "      <td>Furnished</td>\n",
              "      <td>Bachelors/Family</td>\n",
              "      <td>6</td>\n",
              "      <td>11764.705882</td>\n",
              "    </tr>\n",
              "    <tr>\n",
              "      <th>1904</th>\n",
              "      <td>4</td>\n",
              "      <td>150000</td>\n",
              "      <td>4000</td>\n",
              "      <td>Carpet Area</td>\n",
              "      <td>Delhi</td>\n",
              "      <td>Semi-Furnished</td>\n",
              "      <td>Bachelors</td>\n",
              "      <td>7</td>\n",
              "      <td>37500.000000</td>\n",
              "    </tr>\n",
              "    <tr>\n",
              "      <th>3328</th>\n",
              "      <td>1</td>\n",
              "      <td>40000</td>\n",
              "      <td>680</td>\n",
              "      <td>Super Area</td>\n",
              "      <td>Mumbai</td>\n",
              "      <td>Furnished</td>\n",
              "      <td>Bachelors/Family</td>\n",
              "      <td>4</td>\n",
              "      <td>58823.529412</td>\n",
              "    </tr>\n",
              "  </tbody>\n",
              "</table>\n",
              "</div>\n",
              "    <div class=\"colab-df-buttons\">\n",
              "\n",
              "  <div class=\"colab-df-container\">\n",
              "    <button class=\"colab-df-convert\" onclick=\"convertToInteractive('df-6f7373e8-2246-4ddd-8df9-4a93118b8f9f')\"\n",
              "            title=\"Convert this dataframe to an interactive table.\"\n",
              "            style=\"display:none;\">\n",
              "\n",
              "  <svg xmlns=\"http://www.w3.org/2000/svg\" height=\"24px\" viewBox=\"0 -960 960 960\">\n",
              "    <path d=\"M120-120v-720h720v720H120Zm60-500h600v-160H180v160Zm220 220h160v-160H400v160Zm0 220h160v-160H400v160ZM180-400h160v-160H180v160Zm440 0h160v-160H620v160ZM180-180h160v-160H180v160Zm440 0h160v-160H620v160Z\"/>\n",
              "  </svg>\n",
              "    </button>\n",
              "\n",
              "  <style>\n",
              "    .colab-df-container {\n",
              "      display:flex;\n",
              "      gap: 12px;\n",
              "    }\n",
              "\n",
              "    .colab-df-convert {\n",
              "      background-color: #E8F0FE;\n",
              "      border: none;\n",
              "      border-radius: 50%;\n",
              "      cursor: pointer;\n",
              "      display: none;\n",
              "      fill: #1967D2;\n",
              "      height: 32px;\n",
              "      padding: 0 0 0 0;\n",
              "      width: 32px;\n",
              "    }\n",
              "\n",
              "    .colab-df-convert:hover {\n",
              "      background-color: #E2EBFA;\n",
              "      box-shadow: 0px 1px 2px rgba(60, 64, 67, 0.3), 0px 1px 3px 1px rgba(60, 64, 67, 0.15);\n",
              "      fill: #174EA6;\n",
              "    }\n",
              "\n",
              "    .colab-df-buttons div {\n",
              "      margin-bottom: 4px;\n",
              "    }\n",
              "\n",
              "    [theme=dark] .colab-df-convert {\n",
              "      background-color: #3B4455;\n",
              "      fill: #D2E3FC;\n",
              "    }\n",
              "\n",
              "    [theme=dark] .colab-df-convert:hover {\n",
              "      background-color: #434B5C;\n",
              "      box-shadow: 0px 1px 3px 1px rgba(0, 0, 0, 0.15);\n",
              "      filter: drop-shadow(0px 1px 2px rgba(0, 0, 0, 0.3));\n",
              "      fill: #FFFFFF;\n",
              "    }\n",
              "  </style>\n",
              "\n",
              "    <script>\n",
              "      const buttonEl =\n",
              "        document.querySelector('#df-6f7373e8-2246-4ddd-8df9-4a93118b8f9f button.colab-df-convert');\n",
              "      buttonEl.style.display =\n",
              "        google.colab.kernel.accessAllowed ? 'block' : 'none';\n",
              "\n",
              "      async function convertToInteractive(key) {\n",
              "        const element = document.querySelector('#df-6f7373e8-2246-4ddd-8df9-4a93118b8f9f');\n",
              "        const dataTable =\n",
              "          await google.colab.kernel.invokeFunction('convertToInteractive',\n",
              "                                                    [key], {});\n",
              "        if (!dataTable) return;\n",
              "\n",
              "        const docLinkHtml = 'Like what you see? Visit the ' +\n",
              "          '<a target=\"_blank\" href=https://colab.research.google.com/notebooks/data_table.ipynb>data table notebook</a>'\n",
              "          + ' to learn more about interactive tables.';\n",
              "        element.innerHTML = '';\n",
              "        dataTable['output_type'] = 'display_data';\n",
              "        await google.colab.output.renderOutput(dataTable, element);\n",
              "        const docLink = document.createElement('div');\n",
              "        docLink.innerHTML = docLinkHtml;\n",
              "        element.appendChild(docLink);\n",
              "      }\n",
              "    </script>\n",
              "  </div>\n",
              "\n",
              "\n",
              "    <div id=\"df-f48b0e33-df4e-41d2-a996-4e33648eb862\">\n",
              "      <button class=\"colab-df-quickchart\" onclick=\"quickchart('df-f48b0e33-df4e-41d2-a996-4e33648eb862')\"\n",
              "                title=\"Suggest charts\"\n",
              "                style=\"display:none;\">\n",
              "\n",
              "<svg xmlns=\"http://www.w3.org/2000/svg\" height=\"24px\"viewBox=\"0 0 24 24\"\n",
              "     width=\"24px\">\n",
              "    <g>\n",
              "        <path d=\"M19 3H5c-1.1 0-2 .9-2 2v14c0 1.1.9 2 2 2h14c1.1 0 2-.9 2-2V5c0-1.1-.9-2-2-2zM9 17H7v-7h2v7zm4 0h-2V7h2v10zm4 0h-2v-4h2v4z\"/>\n",
              "    </g>\n",
              "</svg>\n",
              "      </button>\n",
              "\n",
              "<style>\n",
              "  .colab-df-quickchart {\n",
              "      --bg-color: #E8F0FE;\n",
              "      --fill-color: #1967D2;\n",
              "      --hover-bg-color: #E2EBFA;\n",
              "      --hover-fill-color: #174EA6;\n",
              "      --disabled-fill-color: #AAA;\n",
              "      --disabled-bg-color: #DDD;\n",
              "  }\n",
              "\n",
              "  [theme=dark] .colab-df-quickchart {\n",
              "      --bg-color: #3B4455;\n",
              "      --fill-color: #D2E3FC;\n",
              "      --hover-bg-color: #434B5C;\n",
              "      --hover-fill-color: #FFFFFF;\n",
              "      --disabled-bg-color: #3B4455;\n",
              "      --disabled-fill-color: #666;\n",
              "  }\n",
              "\n",
              "  .colab-df-quickchart {\n",
              "    background-color: var(--bg-color);\n",
              "    border: none;\n",
              "    border-radius: 50%;\n",
              "    cursor: pointer;\n",
              "    display: none;\n",
              "    fill: var(--fill-color);\n",
              "    height: 32px;\n",
              "    padding: 0;\n",
              "    width: 32px;\n",
              "  }\n",
              "\n",
              "  .colab-df-quickchart:hover {\n",
              "    background-color: var(--hover-bg-color);\n",
              "    box-shadow: 0 1px 2px rgba(60, 64, 67, 0.3), 0 1px 3px 1px rgba(60, 64, 67, 0.15);\n",
              "    fill: var(--button-hover-fill-color);\n",
              "  }\n",
              "\n",
              "  .colab-df-quickchart-complete:disabled,\n",
              "  .colab-df-quickchart-complete:disabled:hover {\n",
              "    background-color: var(--disabled-bg-color);\n",
              "    fill: var(--disabled-fill-color);\n",
              "    box-shadow: none;\n",
              "  }\n",
              "\n",
              "  .colab-df-spinner {\n",
              "    border: 2px solid var(--fill-color);\n",
              "    border-color: transparent;\n",
              "    border-bottom-color: var(--fill-color);\n",
              "    animation:\n",
              "      spin 1s steps(1) infinite;\n",
              "  }\n",
              "\n",
              "  @keyframes spin {\n",
              "    0% {\n",
              "      border-color: transparent;\n",
              "      border-bottom-color: var(--fill-color);\n",
              "      border-left-color: var(--fill-color);\n",
              "    }\n",
              "    20% {\n",
              "      border-color: transparent;\n",
              "      border-left-color: var(--fill-color);\n",
              "      border-top-color: var(--fill-color);\n",
              "    }\n",
              "    30% {\n",
              "      border-color: transparent;\n",
              "      border-left-color: var(--fill-color);\n",
              "      border-top-color: var(--fill-color);\n",
              "      border-right-color: var(--fill-color);\n",
              "    }\n",
              "    40% {\n",
              "      border-color: transparent;\n",
              "      border-right-color: var(--fill-color);\n",
              "      border-top-color: var(--fill-color);\n",
              "    }\n",
              "    60% {\n",
              "      border-color: transparent;\n",
              "      border-right-color: var(--fill-color);\n",
              "    }\n",
              "    80% {\n",
              "      border-color: transparent;\n",
              "      border-right-color: var(--fill-color);\n",
              "      border-bottom-color: var(--fill-color);\n",
              "    }\n",
              "    90% {\n",
              "      border-color: transparent;\n",
              "      border-bottom-color: var(--fill-color);\n",
              "    }\n",
              "  }\n",
              "</style>\n",
              "\n",
              "      <script>\n",
              "        async function quickchart(key) {\n",
              "          const quickchartButtonEl =\n",
              "            document.querySelector('#' + key + ' button');\n",
              "          quickchartButtonEl.disabled = true;  // To prevent multiple clicks.\n",
              "          quickchartButtonEl.classList.add('colab-df-spinner');\n",
              "          try {\n",
              "            const charts = await google.colab.kernel.invokeFunction(\n",
              "                'suggestCharts', [key], {});\n",
              "          } catch (error) {\n",
              "            console.error('Error during call to suggestCharts:', error);\n",
              "          }\n",
              "          quickchartButtonEl.classList.remove('colab-df-spinner');\n",
              "          quickchartButtonEl.classList.add('colab-df-quickchart-complete');\n",
              "        }\n",
              "        (() => {\n",
              "          let quickchartButtonEl =\n",
              "            document.querySelector('#df-f48b0e33-df4e-41d2-a996-4e33648eb862 button');\n",
              "          quickchartButtonEl.style.display =\n",
              "            google.colab.kernel.accessAllowed ? 'block' : 'none';\n",
              "        })();\n",
              "      </script>\n",
              "    </div>\n",
              "\n",
              "    </div>\n",
              "  </div>\n"
            ],
            "application/vnd.google.colaboratory.intrinsic+json": {
              "type": "dataframe",
              "summary": "{\n  \"name\": \"df_without_outliers[df_without_outliers\",\n  \"rows\": 3,\n  \"fields\": [\n    {\n      \"column\": \"BHK\",\n      \"properties\": {\n        \"dtype\": \"number\",\n        \"std\": 1,\n        \"min\": 1,\n        \"max\": 4,\n        \"num_unique_values\": 3,\n        \"samples\": [\n          3,\n          4,\n          1\n        ],\n        \"semantic_type\": \"\",\n        \"description\": \"\"\n      }\n    },\n    {\n      \"column\": \"Rent\",\n      \"properties\": {\n        \"dtype\": \"number\",\n        \"std\": 70000,\n        \"min\": 20000,\n        \"max\": 150000,\n        \"num_unique_values\": 3,\n        \"samples\": [\n          20000,\n          150000,\n          40000\n        ],\n        \"semantic_type\": \"\",\n        \"description\": \"\"\n      }\n    },\n    {\n      \"column\": \"Size\",\n      \"properties\": {\n        \"dtype\": \"number\",\n        \"std\": 1700,\n        \"min\": 680,\n        \"max\": 4000,\n        \"num_unique_values\": 3,\n        \"samples\": [\n          1700,\n          4000,\n          680\n        ],\n        \"semantic_type\": \"\",\n        \"description\": \"\"\n      }\n    },\n    {\n      \"column\": \"Area Type\",\n      \"properties\": {\n        \"dtype\": \"string\",\n        \"num_unique_values\": 2,\n        \"samples\": [\n          \"Super Area\",\n          \"Carpet Area\"\n        ],\n        \"semantic_type\": \"\",\n        \"description\": \"\"\n      }\n    },\n    {\n      \"column\": \"City\",\n      \"properties\": {\n        \"dtype\": \"string\",\n        \"num_unique_values\": 3,\n        \"samples\": [\n          \"Chennai\",\n          \"Delhi\"\n        ],\n        \"semantic_type\": \"\",\n        \"description\": \"\"\n      }\n    },\n    {\n      \"column\": \"Furnishing Status\",\n      \"properties\": {\n        \"dtype\": \"string\",\n        \"num_unique_values\": 2,\n        \"samples\": [\n          \"Semi-Furnished\",\n          \"Furnished\"\n        ],\n        \"semantic_type\": \"\",\n        \"description\": \"\"\n      }\n    },\n    {\n      \"column\": \"Tenant Preferred\",\n      \"properties\": {\n        \"dtype\": \"string\",\n        \"num_unique_values\": 2,\n        \"samples\": [\n          \"Bachelors\",\n          \"Bachelors/Family\"\n        ],\n        \"semantic_type\": \"\",\n        \"description\": \"\"\n      }\n    },\n    {\n      \"column\": \"Bathroom\",\n      \"properties\": {\n        \"dtype\": \"number\",\n        \"std\": 1,\n        \"min\": 4,\n        \"max\": 7,\n        \"num_unique_values\": 3,\n        \"samples\": [\n          6,\n          7\n        ],\n        \"semantic_type\": \"\",\n        \"description\": \"\"\n      }\n    },\n    {\n      \"column\": \"Price_per_sqft\",\n      \"properties\": {\n        \"dtype\": \"number\",\n        \"std\": 23563.85346906186,\n        \"min\": 11764.70588235294,\n        \"max\": 58823.529411764706,\n        \"num_unique_values\": 3,\n        \"samples\": [\n          11764.70588235294,\n          37500.0\n        ],\n        \"semantic_type\": \"\",\n        \"description\": \"\"\n      }\n    }\n  ]\n}"
            }
          },
          "metadata": {},
          "execution_count": 39
        }
      ]
    },
    {
      "cell_type": "code",
      "source": [
        "# Menghapus outlier berdasarkan jumlah kamar mandi\n",
        "df_without_outliers = df_without_outliers[~(df_without_outliers.Bathroom > (df_without_outliers.BHK + 2))]\n",
        "df_without_outliers.head()\n",
        "\n",
        "# Menampilkan dimensi data setelah pembersihan\n",
        "df_without_outliers.shape"
      ],
      "metadata": {
        "colab": {
          "base_uri": "https://localhost:8080/"
        },
        "id": "Ina6_O2oHWKS",
        "outputId": "108682f1-cbbc-4aa6-a764-c740423b5369"
      },
      "execution_count": 40,
      "outputs": [
        {
          "output_type": "execute_result",
          "data": {
            "text/plain": [
              "(3696, 9)"
            ]
          },
          "metadata": {},
          "execution_count": 40
        }
      ]
    },
    {
      "cell_type": "code",
      "source": [
        "# Menghapus kolom 'Price_per_sqft' karena sudah tidak diperlukan lagi\n",
        "df_final = df_without_outliers.drop(columns=['Price_per_sqft'])"
      ],
      "metadata": {
        "id": "WnYG_14NHZSL"
      },
      "execution_count": 41,
      "outputs": []
    },
    {
      "cell_type": "code",
      "source": [
        "# Menganalisis korelasi antar fitur numerik dan target 'Rent'\n",
        "plt.figure(figsize=(10, 8))\n",
        "# Drop non-numeric columns before calculating correlation\n",
        "corr_matrix = df_final.select_dtypes(include=['number']).corr().round(2)\n",
        "\n",
        "# Membuat heatmap untuk korelasi antar fitur numerik\n",
        "sns.heatmap(corr_matrix, annot=True, cmap='coolwarm', linewidths=0.5)\n",
        "plt.title(\"Matriks Korelasi antara Fitur Numerik dan 'Rent'\", fontsize=20)"
      ],
      "metadata": {
        "colab": {
          "base_uri": "https://localhost:8080/",
          "height": 724
        },
        "id": "gqdre6uYHcHI",
        "outputId": "cae5890f-bc12-483d-f040-7e17520334f6"
      },
      "execution_count": 44,
      "outputs": [
        {
          "output_type": "execute_result",
          "data": {
            "text/plain": [
              "Text(0.5, 1.0, \"Matriks Korelasi antara Fitur Numerik dan 'Rent'\")"
            ]
          },
          "metadata": {},
          "execution_count": 44
        },
        {
          "output_type": "display_data",
          "data": {
            "text/plain": [
              "<Figure size 1000x800 with 2 Axes>"
            ],
            "image/png": "[encoded data removed]"
          },
          "metadata": {}
        }
      ]
    },
    {
      "cell_type": "code",
      "source": [
        "# Menganalisis hubungan antara fitur kategorikal dan target 'Rent'\n",
        "categorical_features = df_without_outliers.select_dtypes(include='object').columns.tolist()"
      ],
      "metadata": {
        "id": "fdqNPiWhH99_"
      },
      "execution_count": 45,
      "outputs": []
    },
    {
      "cell_type": "code",
      "source": [
        "# Membuat grafik bar untuk fitur kategorikal terhadap 'Rent' dengan penyesuaian palet warna dan hue\n",
        "for feature in categorical_features:\n",
        "    sns.catplot(x=feature, y=\"Rent\", kind=\"bar\", hue=feature, dodge=False, height=4, aspect=3, data=df_without_outliers, palette=\"Set2\", legend=False)\n",
        "    plt.title(f\"Rata-rata 'Rent' Relatif terhadap {feature}\")"
      ],
      "metadata": {
        "colab": {
          "base_uri": "https://localhost:8080/",
          "height": 1000
        },
        "id": "rzcqZfiUIAvl",
        "outputId": "e396856b-6ad2-49ba-d4d1-cb2d2a0ef557"
      },
      "execution_count": 47,
      "outputs": [
        {
          "output_type": "display_data",
          "data": {
            "text/plain": [
              "<Figure size 1200x400 with 1 Axes>"
            ],
            "image/png": "[encoded data removed]"
          },
          "metadata": {}
        },
        {
          "output_type": "display_data",
          "data": {
            "text/plain": [
              "<Figure size 1200x400 with 1 Axes>"
            ],
            "image/png": "[encoded data removed]"
          },
          "metadata": {}
        },
        {
          "output_type": "display_data",
          "data": {
            "text/plain": [
              "<Figure size 1200x400 with 1 Axes>"
            ],
            "image/png": "[encoded data removed]"
          },
          "metadata": {}
        },
        {
          "output_type": "display_data",
          "data": {
            "text/plain": [
              "<Figure size 1200x400 with 1 Axes>"
            ],
            "image/png": "[encoded data removed]"
          },
          "metadata": {}
        }
      ]
    },
    {
      "cell_type": "markdown",
      "source": [
        "**Data Preparation**"
      ],
      "metadata": {
        "id": "ma41Hz2wJtAf"
      }
    },
    {
      "cell_type": "code",
      "source": [
        "# One-Hot Encoding untuk fitur kategorikal\n",
        "# Menggunakan pd.get_dummies untuk mengubah fitur kategorikal menjadi kolom biner\n",
        "df_encoded = pd.get_dummies(df_final, drop_first=True)"
      ],
      "metadata": {
        "id": "ihAYwgfaJuRP"
      },
      "execution_count": 48,
      "outputs": []
    },
    {
      "cell_type": "code",
      "source": [
        "# Menampilkan 5 baris pertama untuk memastikan perubahan\n",
        "print(\"\\nContoh data setelah One-Hot Encoding:\")\n",
        "print(df_encoded.head())"
      ],
      "metadata": {
        "colab": {
          "base_uri": "https://localhost:8080/"
        },
        "id": "EKm9DcjoJyta",
        "outputId": "41507534-418f-48c6-cc7f-ece25d8ecd84"
      },
      "execution_count": 49,
      "outputs": [
        {
          "output_type": "stream",
          "name": "stdout",
          "text": [
            "\n",
            "Contoh data setelah One-Hot Encoding:\n",
            "   BHK   Rent  Size  Bathroom  Area Type_Super Area  City_Chennai  City_Delhi  \\\n",
            "0    3  70000  3354         3                 False         False       False   \n",
            "1    2  10500   800         2                  True         False       False   \n",
            "2    2  13000  1000         2                  True         False       False   \n",
            "3    2  17000  1040         2                  True         False       False   \n",
            "4    3  21000  1403         3                  True         False       False   \n",
            "\n",
            "   City_Hyderabad  City_Kolkata  City_Mumbai  \\\n",
            "0           False         False        False   \n",
            "1           False         False        False   \n",
            "2           False         False        False   \n",
            "3           False         False        False   \n",
            "4           False         False        False   \n",
            "\n",
            "   Furnishing Status_Semi-Furnished  Furnishing Status_Unfurnished  \\\n",
            "0                             False                          False   \n",
            "1                              True                          False   \n",
            "2                              True                          False   \n",
            "3                             False                          False   \n",
            "4                              True                          False   \n",
            "\n",
            "   Tenant Preferred_Bachelors/Family  Tenant Preferred_Family  \n",
            "0                               True                    False  \n",
            "1                               True                    False  \n",
            "2                               True                    False  \n",
            "3                               True                    False  \n",
            "4                               True                    False  \n"
          ]
        }
      ]
    },
    {
      "cell_type": "code",
      "source": [
        "# Pembagian Data untuk Training dan Testing\n",
        "from sklearn.model_selection import train_test_split"
      ],
      "metadata": {
        "id": "MwJxA9nMJ2Ud"
      },
      "execution_count": 50,
      "outputs": []
    },
    {
      "cell_type": "code",
      "source": [
        "# Menentukan fitur (X) dan target (y)\n",
        "X = df_encoded.drop(columns=['Rent'])  # Fitur yang digunakan untuk memprediksi\n",
        "y = df_encoded['Rent']  # Target variabel (Harga Sewa)\n",
        "\n",
        "# Membagi data menjadi data training dan testing (80% training, 20% testing)\n",
        "X_train, X_test, y_train, y_test = train_test_split(X, y, test_size=0.2, random_state=42)\n",
        "\n",
        "print(\"\\nDimensi data setelah pembagian:\")\n",
        "print(f\"Training data (X_train, y_train): {X_train.shape}, {y_train.shape}\")\n",
        "print(f\"Testing data (X_test, y_test): {X_test.shape}, {y_test.shape}\")"
      ],
      "metadata": {
        "colab": {
          "base_uri": "https://localhost:8080/"
        },
        "id": "H2jQuYWmJ6tt",
        "outputId": "fccdbb24-bc33-4f10-b0b7-dfa6b4b1e3ff"
      },
      "execution_count": 51,
      "outputs": [
        {
          "output_type": "stream",
          "name": "stdout",
          "text": [
            "\n",
            "Dimensi data setelah pembagian:\n",
            "Training data (X_train, y_train): (2956, 13), (2956,)\n",
            "Testing data (X_test, y_test): (740, 13), (740,)\n"
          ]
        }
      ]
    },
    {
      "cell_type": "code",
      "source": [
        "# Normalisasi Fitur Numerik\n",
        "from sklearn.preprocessing import MinMaxScaler\n",
        "\n",
        "# Normalisasi data numerik menggunakan MinMaxScaler agar setiap fitur berada dalam rentang yang sama (0-1)\n",
        "scaler = MinMaxScaler()"
      ],
      "metadata": {
        "id": "iG-1ButVKAsS"
      },
      "execution_count": 52,
      "outputs": []
    },
    {
      "cell_type": "code",
      "source": [
        "# Normalisasi hanya kolom numerik yang tidak terpengaruh oleh One-Hot Encoding\n",
        "numerical_features = ['Size', 'BHK', 'Bathroom']\n",
        "X_train[numerical_features] = scaler.fit_transform(X_train[numerical_features])\n",
        "X_test[numerical_features] = scaler.transform(X_test[numerical_features])"
      ],
      "metadata": {
        "id": "SLYI4EgqKEkS"
      },
      "execution_count": 54,
      "outputs": []
    },
    {
      "cell_type": "code",
      "source": [
        "# Menampilkan data setelah normalisasi\n",
        "print(\"\\nContoh data setelah normalisasi (X_train):\")\n",
        "print(X_train.head())"
      ],
      "metadata": {
        "colab": {
          "base_uri": "https://localhost:8080/"
        },
        "id": "mv4gRvOrKLSC",
        "outputId": "6cd086a8-018b-4a3a-c73b-621ff7ca6776"
      },
      "execution_count": 55,
      "outputs": [
        {
          "output_type": "stream",
          "name": "stdout",
          "text": [
            "\n",
            "Contoh data setelah normalisasi (X_train):\n",
            "      BHK      Size  Bathroom  Area Type_Super Area  City_Chennai  City_Delhi  \\\n",
            "2889  0.2  0.080000  0.000000                 False         False       False   \n",
            "2717  0.0  0.000000  0.000000                 False         False       False   \n",
            "818   0.4  0.429825  0.500000                 False         False       False   \n",
            "3562  0.6  0.298246  0.500000                 False         False       False   \n",
            "2580  0.2  0.140351  0.166667                 False         False       False   \n",
            "\n",
            "      City_Hyderabad  City_Kolkata  City_Mumbai  \\\n",
            "2889           False          True        False   \n",
            "2717           False          True        False   \n",
            "818            False         False        False   \n",
            "3562           False         False         True   \n",
            "2580            True         False        False   \n",
            "\n",
            "      Furnishing Status_Semi-Furnished  Furnishing Status_Unfurnished  \\\n",
            "2889                              True                          False   \n",
            "2717                             False                           True   \n",
            "818                               True                          False   \n",
            "3562                             False                          False   \n",
            "2580                              True                          False   \n",
            "\n",
            "      Tenant Preferred_Bachelors/Family  Tenant Preferred_Family  \n",
            "2889                               True                    False  \n",
            "2717                               True                    False  \n",
            "818                               False                    False  \n",
            "3562                              False                     True  \n",
            "2580                               True                    False  \n"
          ]
        }
      ]
    },
    {
      "cell_type": "markdown",
      "source": [
        "**Modelling**"
      ],
      "metadata": {
        "id": "CsI9Ay55LIBT"
      }
    },
    {
      "cell_type": "code",
      "source": [
        "# Importing libraries\n",
        "from sklearn.linear_model import LinearRegression\n",
        "from sklearn.ensemble import RandomForestRegressor\n",
        "from sklearn.metrics import mean_squared_error, mean_absolute_error, r2_score\n",
        "from sklearn.model_selection import GridSearchCV"
      ],
      "metadata": {
        "id": "ajYHiwmgLKyk"
      },
      "execution_count": 56,
      "outputs": []
    },
    {
      "cell_type": "code",
      "source": [
        "# Membuat Model dengan Linear Regression\n",
        "lr_model = LinearRegression()\n",
        "lr_model.fit(X_train, y_train)\n",
        "\n",
        "# Prediksi menggunakan model Linear Regression\n",
        "lr_predictions = lr_model.predict(X_test)\n",
        "\n",
        "# Evaluasi model Linear Regression\n",
        "lr_mse = mean_squared_error(y_test, lr_predictions)\n",
        "# Calculate RMSE by taking the square root of MSE\n",
        "lr_rmse = np.sqrt(lr_mse)\n",
        "lr_mae = mean_absolute_error(y_test, lr_predictions)\n",
        "lr_r2 = r2_score(y_test, lr_predictions)\n",
        "\n",
        "print(\"Evaluasi Model Linear Regression:\")\n",
        "print(f\"Mean Squared Error (MSE): {lr_mse:.2f}\")\n",
        "print(f\"Root Mean Squared Error (RMSE): {lr_rmse:.2f}\")\n",
        "print(f\"Mean Absolute Error (MAE): {lr_mae:.2f}\")\n",
        "print(f\"R^2 Score: {lr_r2:.2f}\")"
      ],
      "metadata": {
        "colab": {
          "base_uri": "https://localhost:8080/"
        },
        "id": "YfZjQkdaLUXX",
        "outputId": "2e56d0e2-17fb-4a02-e371-ec65f0730588"
      },
      "execution_count": 58,
      "outputs": [
        {
          "output_type": "stream",
          "name": "stdout",
          "text": [
            "Evaluasi Model Linear Regression:\n",
            "Mean Squared Error (MSE): 297106384.62\n",
            "Root Mean Squared Error (RMSE): 17236.77\n",
            "Mean Absolute Error (MAE): 11325.07\n",
            "R^2 Score: 0.71\n"
          ]
        }
      ]
    },
    {
      "cell_type": "code",
      "source": [
        "# Membuat Model dengan Random Forest Regressor\n",
        "rf_model = RandomForestRegressor(random_state=42)\n",
        "rf_model.fit(X_train, y_train)\n",
        "\n",
        "# Prediksi menggunakan model Random Forest\n",
        "rf_predictions = rf_model.predict(X_test)\n",
        "\n",
        "# Evaluasi model Random Forest\n",
        "rf_mse = mean_squared_error(y_test, rf_predictions)\n",
        "# Calculate RMSE by taking the square root of MSE manually\n",
        "rf_rmse = np.sqrt(rf_mse)\n",
        "rf_mae = mean_absolute_error(y_test, rf_predictions)\n",
        "rf_r2 = r2_score(y_test, rf_predictions)\n",
        "\n",
        "print(\"\\nEvaluasi Model Random Forest Regressor:\")\n",
        "print(f\"Mean Squared Error (MSE): {rf_mse:.2f}\")\n",
        "print(f\"Root Mean Squared Error (RMSE): {rf_rmse:.2f}\")\n",
        "print(f\"Mean Absolute Error (MAE): {rf_mae:.2f}\")\n",
        "print(f\"R^2 Score: {rf_r2:.2f}\")"
      ],
      "metadata": {
        "colab": {
          "base_uri": "https://localhost:8080/"
        },
        "id": "FPVImDioLsl7",
        "outputId": "03f80bee-1306-4e3b-ed1f-5cf2d738113a"
      },
      "execution_count": 64,
      "outputs": [
        {
          "output_type": "stream",
          "name": "stdout",
          "text": [
            "\n",
            "Evaluasi Model Random Forest Regressor:\n",
            "Mean Squared Error (MSE): 133767120.09\n",
            "Root Mean Squared Error (RMSE): 11565.77\n",
            "Mean Absolute Error (MAE): 6792.76\n",
            "R^2 Score: 0.87\n"
          ]
        }
      ]
    },
    {
      "cell_type": "code",
      "source": [
        "from sklearn.ensemble import GradientBoostingRegressor\n",
        "\n",
        "# Membuat Model dengan Gradient Boosting Regressor\n",
        "gb_model = GradientBoostingRegressor(random_state=42)\n",
        "gb_model.fit(X_train, y_train)\n",
        "\n",
        "# Prediksi menggunakan model Gradient Boosting\n",
        "gb_predictions = gb_model.predict(X_test)\n",
        "\n",
        "# Evaluasi model Gradient Boosting\n",
        "gb_mse = mean_squared_error(y_test, gb_predictions)\n",
        "# Calculate RMSE by taking the square root of MSE\n",
        "gb_rmse = np.sqrt(gb_mse)  # Calculate RMSE manually\n",
        "gb_mae = mean_absolute_error(y_test, gb_predictions)\n",
        "gb_r2 = r2_score(y_test, gb_predictions)\n",
        "\n",
        "print(\"\\nEvaluasi Model Gradient Boosting Regressor:\")\n",
        "print(f\"Mean Squared Error (MSE): {gb_mse:.2f}\")\n",
        "print(f\"Root Mean Squared Error (RMSE): {gb_rmse:.2f}\")\n",
        "print(f\"Mean Absolute Error (MAE): {gb_mae:.2f}\")\n",
        "print(f\"R^2 Score: {gb_r2:.2f}\")"
      ],
      "metadata": {
        "colab": {
          "base_uri": "https://localhost:8080/"
        },
        "id": "EJ2v95a0NSEV",
        "outputId": "34d934f4-df4e-4559-da39-03bb9d17db23"
      },
      "execution_count": 67,
      "outputs": [
        {
          "output_type": "stream",
          "name": "stdout",
          "text": [
            "\n",
            "Evaluasi Model Gradient Boosting Regressor:\n",
            "Mean Squared Error (MSE): 117975329.97\n",
            "Root Mean Squared Error (RMSE): 10861.64\n",
            "Mean Absolute Error (MAE): 6600.55\n",
            "R^2 Score: 0.88\n"
          ]
        }
      ]
    },
    {
      "cell_type": "code",
      "source": [
        "# Hyperparameter Tuning untuk Random Forest Regressor menggunakan GridSearchCV\n",
        "param_grid_rf = {\n",
        "    'n_estimators': [50, 100, 200],\n",
        "    'max_depth': [10, 20, None],\n",
        "    'min_samples_split': [2, 5, 10],\n",
        "    'min_samples_leaf': [1, 2, 4]\n",
        "}\n",
        "\n",
        "grid_search_rf = GridSearchCV(estimator=rf_model, param_grid=param_grid_rf, cv=5, scoring='neg_mean_squared_error')\n",
        "grid_search_rf.fit(X_train, y_train)\n",
        "\n",
        "# Menampilkan hasil hyperparameter tuning Random Forest\n",
        "print(\"\\nHasil GridSearchCV untuk Random Forest Regressor:\")\n",
        "print(f\"Best Parameters: {grid_search_rf.best_params_}\")\n",
        "print(f\"Best Score (MSE): {-grid_search_rf.best_score_:.2f}\")\n",
        "\n",
        "# Menggunakan model terbaik dari GridSearchCV untuk Random Forest\n",
        "best_rf_model = grid_search_rf.best_estimator_\n",
        "\n",
        "# Prediksi dengan model terbaik\n",
        "best_rf_predictions = best_rf_model.predict(X_test)\n",
        "\n",
        "# Evaluasi model terbaik Random Forest\n",
        "best_rf_mse = mean_squared_error(y_test, best_rf_predictions)\n",
        "# Calculate RMSE by taking the square root of MSE manually, instead of using 'squared=False'\n",
        "best_rf_rmse = np.sqrt(best_rf_mse)\n",
        "best_rf_mae = mean_absolute_error(y_test, best_rf_predictions)\n",
        "best_rf_r2 = r2_score(y_test, best_rf_predictions)\n",
        "\n",
        "print(\"\\nEvaluasi Model Random Forest Regressor setelah Hyperparameter Tuning:\")\n",
        "print(f\"Mean Squared Error (MSE): {best_rf_mse:.2f}\")\n",
        "print(f\"Root Mean Squared Error (RMSE): {best_rf_rmse:.2f}\")\n",
        "print(f\"Mean Absolute Error (MAE): {best_rf_mae:.2f}\")\n",
        "print(f\"R^2 Score: {best_rf_r2:.2f}\")"
      ],
      "metadata": {
        "colab": {
          "base_uri": "https://localhost:8080/"
        },
        "id": "6DRbEzArN15_",
        "outputId": "b4fa1bee-7d5b-4298-cdea-f25d94bd681f"
      },
      "execution_count": 69,
      "outputs": [
        {
          "output_type": "stream",
          "name": "stdout",
          "text": [
            "\n",
            "Hasil GridSearchCV untuk Random Forest Regressor:\n",
            "Best Parameters: {'max_depth': 10, 'min_samples_leaf': 4, 'min_samples_split': 10, 'n_estimators': 200}\n",
            "Best Score (MSE): 153328771.02\n",
            "\n",
            "Evaluasi Model Random Forest Regressor setelah Hyperparameter Tuning:\n",
            "Mean Squared Error (MSE): 122123014.36\n",
            "Root Mean Squared Error (RMSE): 11050.93\n",
            "Mean Absolute Error (MAE): 6555.85\n",
            "R^2 Score: 0.88\n"
          ]
        }
      ]
    },
    {
      "cell_type": "code",
      "source": [
        "# Memilih Model Terbaik\n",
        "# Menyusun hasil evaluasi dan memilih model dengan R^2 terbaik\n",
        "models = {\n",
        "    \"Linear Regression\": lr_r2,\n",
        "    \"Random Forest Regressor\": best_rf_r2 if best_rf_r2 > rf_r2 else rf_r2,\n",
        "    \"Gradient Boosting Regressor\": gb_r2\n",
        "}\n",
        "\n",
        "best_model_name = max(models, key=models.get)\n",
        "\n",
        "print(f\"\\nModel terbaik adalah: {best_model_name}\")"
      ],
      "metadata": {
        "colab": {
          "base_uri": "https://localhost:8080/"
        },
        "id": "Tg3TwxepQDEx",
        "outputId": "d6a7866b-7652-4979-892c-9790e8bf7022"
      },
      "execution_count": 70,
      "outputs": [
        {
          "output_type": "stream",
          "name": "stdout",
          "text": [
            "\n",
            "Model terbaik adalah: Gradient Boosting Regressor\n"
          ]
        }
      ]
    },
    {
      "cell_type": "markdown",
      "source": [
        "**Evaluation**"
      ],
      "metadata": {
        "id": "ujkVwLDIQPoH"
      }
    },
    {
      "cell_type": "code",
      "source": [
        "# Importing evaluation metrics\n",
        "from sklearn.metrics import mean_squared_error, mean_absolute_error, r2_score\n",
        "import numpy as np"
      ],
      "metadata": {
        "id": "Zln2cOMfQQpp"
      },
      "execution_count": 72,
      "outputs": []
    },
    {
      "cell_type": "code",
      "source": [
        "# Evaluasi untuk 3 model\n",
        "models = {\n",
        "    \"Linear Regression\": lr_model,\n",
        "    \"Random Forest Regressor\": rf_model,\n",
        "    \"Gradient Boosting Regressor\": gb_model\n",
        "}"
      ],
      "metadata": {
        "id": "-gFTfD8gSoOY"
      },
      "execution_count": 73,
      "outputs": []
    },
    {
      "cell_type": "code",
      "source": [
        "# Function for evaluating models\n",
        "def evaluate_model(model, X_test, y_test):\n",
        "    predictions = model.predict(X_test)\n",
        "    mse = mean_squared_error(y_test, predictions)\n",
        "    rmse = np.sqrt(mse)\n",
        "    mae = mean_absolute_error(y_test, predictions)\n",
        "    r2 = r2_score(y_test, predictions)\n",
        "    return mse, rmse, mae, r2"
      ],
      "metadata": {
        "id": "a7hpC5wPSqwT"
      },
      "execution_count": 74,
      "outputs": []
    },
    {
      "cell_type": "code",
      "source": [
        "# Evaluasi semua model\n",
        "results = {}\n",
        "\n",
        "for model_name, model in models.items():\n",
        "    mse, rmse, mae, r2 = evaluate_model(model, X_test, y_test)\n",
        "    results[model_name] = {\n",
        "        \"MSE\": mse,\n",
        "        \"RMSE\": rmse,\n",
        "        \"MAE\": mae,\n",
        "        \"R^2\": r2\n",
        "    }"
      ],
      "metadata": {
        "id": "Axljew7WStk1"
      },
      "execution_count": 75,
      "outputs": []
    },
    {
      "cell_type": "code",
      "source": [
        "# Tampilkan hasil evaluasi untuk semua model\n",
        "for model_name, result in results.items():\n",
        "    print(f\"\\nEvaluasi Model: {model_name}\")\n",
        "    print(f\"Mean Squared Error (MSE): {result['MSE']:.2f}\")\n",
        "    print(f\"Root Mean Squared Error (RMSE): {result['RMSE']:.2f}\")\n",
        "    print(f\"Mean Absolute Error (MAE): {result['MAE']:.2f}\")\n",
        "    print(f\"R^2 Score: {result['R^2']:.2f}\")"
      ],
      "metadata": {
        "colab": {
          "base_uri": "https://localhost:8080/"
        },
        "id": "fu1ZNRHCSwpp",
        "outputId": "e3fcddad-b119-4255-9107-a4c497ac5828"
      },
      "execution_count": 76,
      "outputs": [
        {
          "output_type": "stream",
          "name": "stdout",
          "text": [
            "\n",
            "Evaluasi Model: Linear Regression\n",
            "Mean Squared Error (MSE): 297106384.62\n",
            "Root Mean Squared Error (RMSE): 17236.77\n",
            "Mean Absolute Error (MAE): 11325.07\n",
            "R^2 Score: 0.71\n",
            "\n",
            "Evaluasi Model: Random Forest Regressor\n",
            "Mean Squared Error (MSE): 133767120.09\n",
            "Root Mean Squared Error (RMSE): 11565.77\n",
            "Mean Absolute Error (MAE): 6792.76\n",
            "R^2 Score: 0.87\n",
            "\n",
            "Evaluasi Model: Gradient Boosting Regressor\n",
            "Mean Squared Error (MSE): 117975329.97\n",
            "Root Mean Squared Error (RMSE): 10861.64\n",
            "Mean Absolute Error (MAE): 6600.55\n",
            "R^2 Score: 0.88\n"
          ]
        }
      ]
    }
  ]
}